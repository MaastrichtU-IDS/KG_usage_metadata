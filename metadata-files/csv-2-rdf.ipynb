{
 "cells": [
  {
   "cell_type": "code",
   "execution_count": null,
   "id": "684f333a-2814-4604-a3bf-0f003ba2b428",
   "metadata": {
    "tags": []
   },
   "outputs": [
    {
     "name": "stdout",
     "output_type": "stream",
     "text": [
      "Converted Bio2RDF log2013kg2024_combined_schema_elements.csv to Bio2RDF_all_log2013_KG2024.ttl\n",
      "Converted Bio2RDF log2019kg2024_combined_schema_elements.csv to Bio2RDF_all_log2019_KG2024.ttl\n",
      "Converted Bio2RDF robotic log2019_kg2024_combined_schema_elements.csv to Bio2RDF_robotic_log2019_KG2024.ttl\n",
      "Converted Bio2RDF organic log2019kg2024_combined_schema_elements.csv to Bio2RDF_organic_log2019KG2024.ttl\n",
      "Converted Wikidata log2017kg2017_combined_schema_elements.csv to Wikidata_organic_log2017KG2017.ttl\n",
      "Converted Wikidata robotic log2017_kg2017_combined_schema_elements.csv to Wikidata_robotic_log2017_KG2017.ttl\n",
      "Converted Wikidata log2017kg2018_combined_schema_elements.csv to Wikidata_organic_log2017KG2018.ttl\n",
      "Converted Wikidata robotic log2018_kg2018_combined_schema_elements.csv to Wikidata_robotic_log2018_KG2018.ttl\n"
     ]
    }
   ],
   "source": [
    "import pandas as pd\n",
    "from rdflib import Graph, Namespace, URIRef, Literal\n",
    "from rdflib.namespace import RDF, XSD\n",
    "\n",
    "# File paths for all datasets\n",
    "file_paths = {\n",
    "    'Bio2RDF all log2013_KG2024': 'Bio2RDF log2013kg2024_combined_schema_elements.csv',\n",
    "    'Bio2RDF all log2019_KG2024': 'Bio2RDF log2019kg2024_combined_schema_elements.csv',\n",
    "    'Bio2RDF robotic log2019_KG2024': 'Bio2RDF robotic log2019_kg2024_combined_schema_elements.csv',\n",
    "    'Bio2RDF organic log2019KG2024': 'Bio2RDF organic log2019kg2024_combined_schema_elements.csv',\n",
    "    'Wikidata organic log2017KG2017': 'Wikidata log2017kg2017_combined_schema_elements.csv',\n",
    "    'Wikidata robotic log2017_KG2017': 'Wikidata robotic log2017_kg2017_combined_schema_elements.csv',\n",
    "    'Wikidata organic log2017KG2018': 'Wikidata log2017kg2018_combined_schema_elements.csv',\n",
    "    'Wikidata robotic log2018_KG2018': 'Wikidata robotic log2018_kg2018_combined_schema_elements.csv',\n",
    "    'Wikidata organic int1 log2017KG2017': 'Wikidata organic-int1 log2018_kg2018_combined_schema_elements.csv',\n",
    "    'Wikidata organic int7 log2018_KG2018': 'Wikidata organic-int7 log2018_kg2018_combined_schema_elements.csv'\n",
    "}\n",
    "\n",
    "# URIs for RDF properties and types\n",
    "SCH = Namespace(\"http://schema.org/\")  # Schema.org namespace with 'sch:' prefix\n",
    "TYPE_URI = URIRef(\"https://www.wikidata.org/wiki/Q379825\")  # Wikidata class for schema elements\n",
    "FREQUENCY_URI = SCH.frequency  # Schema.org frequency property\n",
    "\n",
    "# Function to convert CSV to TTL\n",
    "def csv_to_ttl(input_csv_path, output_ttl_path):\n",
    "    # Load CSV data\n",
    "    df = pd.read_csv(input_csv_path)\n",
    "    \n",
    "    # Create an RDF graph\n",
    "    g = Graph()\n",
    "    g.bind(\"sch\", SCH)  # Bind schema.org namespace to 'sch'\n",
    "    \n",
    "    # Process each row\n",
    "    for _, row in df.iterrows():\n",
    "        schema_element_uri = row[\"Schema Element\"]\n",
    "        total_count = row[\"TotalCount\"]\n",
    "        \n",
    "        # Use the schema element directly as a URI\n",
    "        schema_uri = URIRef(schema_element_uri)\n",
    "        \n",
    "        # Add triples\n",
    "        g.add((schema_uri, RDF.type, TYPE_URI))  # Type triple\n",
    "        g.add((schema_uri, FREQUENCY_URI, Literal(total_count, datatype=XSD.integer)))  # Frequency triple\n",
    "    \n",
    "    # Serialize graph\n",
    "    with open(output_ttl_path, \"w\") as f:\n",
    "        f.write(g.serialize(format=\"turtle\"))\n",
    "    print(f\"Converted {input_csv_path} to {output_ttl_path}\")\n",
    "\n",
    "# Process all files\n",
    "for dataset_name, csv_file in file_paths.items():\n",
    "    output_file = f\"{dataset_name.replace(' ', '_')}.ttl\"  # Generate output file name\n",
    "    csv_to_ttl(csv_file, output_file)\n"
   ]
  },
  {
   "cell_type": "code",
   "execution_count": null,
   "id": "aeba78c7-cb09-4eb1-8c40-176a9192a6b9",
   "metadata": {},
   "outputs": [],
   "source": []
  }
 ],
 "metadata": {
  "kernelspec": {
   "display_name": "Python [conda env:root] *",
   "language": "python",
   "name": "conda-root-py"
  },
  "language_info": {
   "codemirror_mode": {
    "name": "ipython",
    "version": 3
   },
   "file_extension": ".py",
   "mimetype": "text/x-python",
   "name": "python",
   "nbconvert_exporter": "python",
   "pygments_lexer": "ipython3",
   "version": "3.8.13"
  }
 },
 "nbformat": 4,
 "nbformat_minor": 5
}
